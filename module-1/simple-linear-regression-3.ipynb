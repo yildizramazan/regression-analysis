{
 "cells": [
  {
   "cell_type": "code",
   "id": "initial_id",
   "metadata": {
    "collapsed": true,
    "ExecuteTime": {
     "end_time": "2025-08-19T17:03:04.387442Z",
     "start_time": "2025-08-19T17:03:04.384010Z"
    }
   },
   "source": [
    "import pandas as pd\n",
    "import matplotlib.pyplot as plt\n",
    "import seaborn as sns\n",
    "import statsmodels.api as sm\n",
    "from statsmodels.formula.api import ols"
   ],
   "outputs": [],
   "execution_count": 28
  },
  {
   "metadata": {
    "ExecuteTime": {
     "end_time": "2025-08-19T17:03:04.411858Z",
     "start_time": "2025-08-19T17:03:04.401702Z"
    }
   },
   "cell_type": "code",
   "source": [
    "data = pd.read_csv('../datasets/marketing_and_sales_data_evaluate_lr.csv')\n",
    "data.head()"
   ],
   "id": "a656bbcb2a66f153",
   "outputs": [
    {
     "data": {
      "text/plain": [
       "     TV      Radio  Social_Media       Sales\n",
       "0  16.0   6.566231      2.907983   54.732757\n",
       "1  13.0   9.237765      2.409567   46.677897\n",
       "2  41.0  15.886446      2.913410  150.177829\n",
       "3  83.0  30.020028      6.922304  298.246340\n",
       "4  15.0   8.437408      1.405998   56.594181"
      ],
      "text/html": [
       "<div>\n",
       "<style scoped>\n",
       "    .dataframe tbody tr th:only-of-type {\n",
       "        vertical-align: middle;\n",
       "    }\n",
       "\n",
       "    .dataframe tbody tr th {\n",
       "        vertical-align: top;\n",
       "    }\n",
       "\n",
       "    .dataframe thead th {\n",
       "        text-align: right;\n",
       "    }\n",
       "</style>\n",
       "<table border=\"1\" class=\"dataframe\">\n",
       "  <thead>\n",
       "    <tr style=\"text-align: right;\">\n",
       "      <th></th>\n",
       "      <th>TV</th>\n",
       "      <th>Radio</th>\n",
       "      <th>Social_Media</th>\n",
       "      <th>Sales</th>\n",
       "    </tr>\n",
       "  </thead>\n",
       "  <tbody>\n",
       "    <tr>\n",
       "      <th>0</th>\n",
       "      <td>16.0</td>\n",
       "      <td>6.566231</td>\n",
       "      <td>2.907983</td>\n",
       "      <td>54.732757</td>\n",
       "    </tr>\n",
       "    <tr>\n",
       "      <th>1</th>\n",
       "      <td>13.0</td>\n",
       "      <td>9.237765</td>\n",
       "      <td>2.409567</td>\n",
       "      <td>46.677897</td>\n",
       "    </tr>\n",
       "    <tr>\n",
       "      <th>2</th>\n",
       "      <td>41.0</td>\n",
       "      <td>15.886446</td>\n",
       "      <td>2.913410</td>\n",
       "      <td>150.177829</td>\n",
       "    </tr>\n",
       "    <tr>\n",
       "      <th>3</th>\n",
       "      <td>83.0</td>\n",
       "      <td>30.020028</td>\n",
       "      <td>6.922304</td>\n",
       "      <td>298.246340</td>\n",
       "    </tr>\n",
       "    <tr>\n",
       "      <th>4</th>\n",
       "      <td>15.0</td>\n",
       "      <td>8.437408</td>\n",
       "      <td>1.405998</td>\n",
       "      <td>56.594181</td>\n",
       "    </tr>\n",
       "  </tbody>\n",
       "</table>\n",
       "</div>"
      ]
     },
     "execution_count": 29,
     "metadata": {},
     "output_type": "execute_result"
    }
   ],
   "execution_count": 29
  },
  {
   "metadata": {
    "ExecuteTime": {
     "end_time": "2025-08-19T17:03:04.461467Z",
     "start_time": "2025-08-19T17:03:04.458195Z"
    }
   },
   "cell_type": "code",
   "source": "data.shape",
   "id": "686d99fb9f6d3fce",
   "outputs": [
    {
     "data": {
      "text/plain": [
       "(4572, 4)"
      ]
     },
     "execution_count": 30,
     "metadata": {},
     "output_type": "execute_result"
    }
   ],
   "execution_count": 30
  },
  {
   "metadata": {
    "ExecuteTime": {
     "end_time": "2025-08-19T17:03:04.519427Z",
     "start_time": "2025-08-19T17:03:04.507810Z"
    }
   },
   "cell_type": "code",
   "source": "data[['TV','Radio','Social_Media']].describe()",
   "id": "ea9d6355d5d7fa76",
   "outputs": [
    {
     "data": {
      "text/plain": [
       "                TV        Radio  Social_Media\n",
       "count  4562.000000  4568.000000   4566.000000\n",
       "mean     54.066857    18.160356      3.323956\n",
       "std      26.125054     9.676958      2.212670\n",
       "min      10.000000     0.000684      0.000031\n",
       "25%      32.000000    10.525957      1.527849\n",
       "50%      53.000000    17.859513      3.055565\n",
       "75%      77.000000    25.649730      4.807558\n",
       "max     100.000000    48.871161     13.981662"
      ],
      "text/html": [
       "<div>\n",
       "<style scoped>\n",
       "    .dataframe tbody tr th:only-of-type {\n",
       "        vertical-align: middle;\n",
       "    }\n",
       "\n",
       "    .dataframe tbody tr th {\n",
       "        vertical-align: top;\n",
       "    }\n",
       "\n",
       "    .dataframe thead th {\n",
       "        text-align: right;\n",
       "    }\n",
       "</style>\n",
       "<table border=\"1\" class=\"dataframe\">\n",
       "  <thead>\n",
       "    <tr style=\"text-align: right;\">\n",
       "      <th></th>\n",
       "      <th>TV</th>\n",
       "      <th>Radio</th>\n",
       "      <th>Social_Media</th>\n",
       "    </tr>\n",
       "  </thead>\n",
       "  <tbody>\n",
       "    <tr>\n",
       "      <th>count</th>\n",
       "      <td>4562.000000</td>\n",
       "      <td>4568.000000</td>\n",
       "      <td>4566.000000</td>\n",
       "    </tr>\n",
       "    <tr>\n",
       "      <th>mean</th>\n",
       "      <td>54.066857</td>\n",
       "      <td>18.160356</td>\n",
       "      <td>3.323956</td>\n",
       "    </tr>\n",
       "    <tr>\n",
       "      <th>std</th>\n",
       "      <td>26.125054</td>\n",
       "      <td>9.676958</td>\n",
       "      <td>2.212670</td>\n",
       "    </tr>\n",
       "    <tr>\n",
       "      <th>min</th>\n",
       "      <td>10.000000</td>\n",
       "      <td>0.000684</td>\n",
       "      <td>0.000031</td>\n",
       "    </tr>\n",
       "    <tr>\n",
       "      <th>25%</th>\n",
       "      <td>32.000000</td>\n",
       "      <td>10.525957</td>\n",
       "      <td>1.527849</td>\n",
       "    </tr>\n",
       "    <tr>\n",
       "      <th>50%</th>\n",
       "      <td>53.000000</td>\n",
       "      <td>17.859513</td>\n",
       "      <td>3.055565</td>\n",
       "    </tr>\n",
       "    <tr>\n",
       "      <th>75%</th>\n",
       "      <td>77.000000</td>\n",
       "      <td>25.649730</td>\n",
       "      <td>4.807558</td>\n",
       "    </tr>\n",
       "    <tr>\n",
       "      <th>max</th>\n",
       "      <td>100.000000</td>\n",
       "      <td>48.871161</td>\n",
       "      <td>13.981662</td>\n",
       "    </tr>\n",
       "  </tbody>\n",
       "</table>\n",
       "</div>"
      ]
     },
     "execution_count": 31,
     "metadata": {},
     "output_type": "execute_result"
    }
   ],
   "execution_count": 31
  },
  {
   "metadata": {
    "ExecuteTime": {
     "end_time": "2025-08-19T17:03:04.590500Z",
     "start_time": "2025-08-19T17:03:04.587167Z"
    }
   },
   "cell_type": "code",
   "source": [
    "missing_sales = data.Sales.isnull().mean()\n",
    "missing_sales = round(missing_sales*100, 2)\n",
    "print('percentage of promotions missing sales: ' +  str(missing_sales) + '%')"
   ],
   "id": "c386367d3dbe6719",
   "outputs": [
    {
     "name": "stdout",
     "output_type": "stream",
     "text": [
      "percentage of promotions missing sales: 0.13%\n"
     ]
    }
   ],
   "execution_count": 32
  },
  {
   "metadata": {
    "ExecuteTime": {
     "end_time": "2025-08-19T17:03:04.693235Z",
     "start_time": "2025-08-19T17:03:04.687807Z"
    }
   },
   "cell_type": "code",
   "source": "data = data.dropna(axis=0, subset=['Sales'])",
   "id": "25ccf808f7954aed",
   "outputs": [],
   "execution_count": 33
  },
  {
   "metadata": {
    "ExecuteTime": {
     "end_time": "2025-08-19T17:04:21.235316Z",
     "start_time": "2025-08-19T17:04:21.125309Z"
    }
   },
   "cell_type": "code",
   "source": "sns.histplot(data=data, x='Sales').set(title='Distribution of Sales')",
   "id": "d796be0ea232639",
   "outputs": [
    {
     "data": {
      "text/plain": [
       "[Text(0.5, 1.0, 'Distribution of Sales')]"
      ]
     },
     "execution_count": 36,
     "metadata": {},
     "output_type": "execute_result"
    },
    {
     "data": {
      "text/plain": [
       "<Figure size 640x480 with 1 Axes>"
      ],
      "image/png": "[encoded data removed]"
     },
     "metadata": {},
     "output_type": "display_data"
    }
   ],
   "execution_count": 36
  }
 ],
 "metadata": {
  "kernelspec": {
   "display_name": "Python 3",
   "language": "python",
   "name": "python3"
  },
  "language_info": {
   "codemirror_mode": {
    "name": "ipython",
    "version": 2
   },
   "file_extension": ".py",
   "mimetype": "text/x-python",
   "name": "python",
   "nbconvert_exporter": "python",
   "pygments_lexer": "ipython2",
   "version": "2.7.6"
  }
 },
 "nbformat": 4,
 "nbformat_minor": 5
}
